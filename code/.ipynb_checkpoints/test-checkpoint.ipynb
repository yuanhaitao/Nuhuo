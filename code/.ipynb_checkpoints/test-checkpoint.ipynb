{
 "cells": [
  {
   "cell_type": "code",
   "execution_count": 10,
   "id": "396b66ed-f105-4320-9a05-5f5ce69bb4af",
   "metadata": {},
   "outputs": [
    {
     "data": {
      "text/plain": [
       "<module 'data' from '/data/hatim/DataCompletion/code/data.py'>"
      ]
     },
     "execution_count": 10,
     "metadata": {},
     "output_type": "execute_result"
    }
   ],
   "source": [
    "import data\n",
    "import imp\n",
    "import time\n",
    "imp.reload(data)"
   ]
  },
  {
   "cell_type": "markdown",
   "id": "0f5f2eac-3ffa-4360-9705-6bf68443aff4",
   "metadata": {},
   "source": [
    "# 测试数据"
   ]
  },
  {
   "cell_type": "code",
   "execution_count": 2,
   "id": "5fa614b3-cecf-4ccf-9978-7c3ccf8b4c97",
   "metadata": {},
   "outputs": [],
   "source": [
    "data_dir=\"/home/hatim/data/DataCompletion/data/chengdu\"\n",
    "# test_data_path=data_dir+\"/test_dataset.txt\"\n",
    "# test_output_path=data_dir+\"/test_output_dataset_0.2.txt\"\n",
    "edge_file=data_dir+\"/new_edge_dict.pk\"\n",
    "graph_file=data_dir+\"/subgraphs_128.pk\""
   ]
  },
  {
   "cell_type": "code",
   "execution_count": 3,
   "id": "1c817f0d-4d0e-4dd2-9a7b-e69146753295",
   "metadata": {},
   "outputs": [
    {
     "name": "stdout",
     "output_type": "stream",
     "text": [
      "used time is :2251.731265068054 seconds\n"
     ]
    }
   ],
   "source": [
    "# start_time = time.time()\n",
    "# traffic_generator= data.TrafficDataset()\n",
    "# traffic_generator._generate_(test_data_path, edge_file=edge_file, graph_file=graph_file, output_path=test_output_path)\n",
    "# end_time = time.time()\n",
    "# print(\"used time is :{} seconds\".format(end_time-start_time))"
   ]
  },
  {
   "cell_type": "code",
   "execution_count": 12,
   "id": "ab9040d4-7e00-4b4e-b870-fecc3a0d7599",
   "metadata": {},
   "outputs": [
    {
     "name": "stdout",
     "output_type": "stream",
     "text": [
      "used time is :872.5696067810059 seconds\n"
     ]
    }
   ],
   "source": [
    "train_data_path=data_dir+\"/val_dataset_shuffle_detail.txt\"\n",
    "time_interval_size = 15\n",
    "valid_min_size = 1\n",
    "mask_rate = 0.2\n",
    "hist_size = 8\n",
    "max_speed = 40\n",
    "suffix = \"_\".join([str(k) for k in [time_interval_size, valid_min_size, mask_rate, hist_size, max_speed]])\n",
    "train_output_path=data_dir+\"/val_output_dataset_shuffle_sim_detail_{}.txt\".format(suffix)\n",
    "start_time = time.time()\n",
    "traffic_generator= data.TrafficDatasetDetail2()\n",
    "traffic_generator._generate_(train_data_path, edge_file=edge_file, graph_file=graph_file, output_path=train_output_path,\n",
    "                            time_interval_size = time_interval_size,\n",
    "                             valid_min_size = valid_min_size, mask_rate = mask_rate,\n",
    "                             hist_size = hist_size, max_speed = max_speed)\n",
    "end_time = time.time()\n",
    "print(\"used time is :{} seconds\".format(end_time-start_time))\n",
    "\n",
    "#可以通过data_generate_mapper.py并行生成"
   ]
  },
  {
   "cell_type": "code",
   "execution_count": 13,
   "id": "b4f46534-35b1-479e-9170-cdfc09c3b9f6",
   "metadata": {},
   "outputs": [
    {
     "ename": "SyntaxError",
     "evalue": "unexpected character after line continuation character (2731455792.py, line 12)",
     "output_type": "error",
     "traceback": [
      "\u001b[0;36m  File \u001b[0;32m\"/tmp/ipykernel_808640/2731455792.py\"\u001b[0;36m, line \u001b[0;32m12\u001b[0m\n\u001b[0;31m    time_interval_size = time_interval_size, \\\u001b[0m\n\u001b[0m                                               \n^\u001b[0m\n\u001b[0;31mSyntaxError\u001b[0m\u001b[0;31m:\u001b[0m unexpected character after line continuation character\n"
     ]
    }
   ],
   "source": [
    "train_data_path=data_dir+\"/train_dataset_shuffle_detail.txt\"\n",
    "time_interval_size = 15\n",
    "valid_min_size = 1\n",
    "mask_rate = 0.2\n",
    "hist_size = 8\n",
    "max_speed = 40\n",
    "suffix = \"_\".join([str(k) for k in [time_interval_size, valid_min_size, mask_rate, hist_size, max_speed]])\n",
    "train_output_path=data_dir+\"/train_output_dataset_shuffle_sim_detail_{}.txt\".format(suffix)\n",
    "start_time = time.time()\n",
    "traffic_generator= data.TrafficDatasetDetail2()\n",
    "traffic_generator._generate_(train_data_path, edge_file=edge_file, graph_file=graph_file, output_path=train_output_path,\n",
    "                            time_interval_size = time_interval_size,\n",
    "                             valid_min_size = valid_min_size, mask_rate = mask_rate,\n",
    "                             hist_size = hist_size, max_speed = max_speed)\n",
    "end_time = time.time()\n",
    "print(\"used time is :{} seconds\".format(end_time-start_time))\n",
    "\n",
    "#可以通过data_generate_mapper.py并行生成"
   ]
  },
  {
   "cell_type": "code",
   "execution_count": null,
   "id": "cfbd9c5b-6bde-480b-b4fe-85ed8060d75a",
   "metadata": {},
   "outputs": [],
   "source": [
    "len(val_dataset)"
   ]
  },
  {
   "cell_type": "code",
   "execution_count": 7,
   "id": "353708dc-52c5-48fd-84f1-dfb57df82e29",
   "metadata": {},
   "outputs": [],
   "source": [
    "import dgl.nn.pytorch as dglnn\n",
    "import torch.nn as nn\n",
    "import torch\n",
    "\n",
    "class Classifier(nn.Module):\n",
    "    def __init__(self, in_dim, hidden_dim, n_classes):\n",
    "        super(Classifier, self).__init__()\n",
    "        self.conv1 = dglnn.GraphConv(in_dim, hidden_dim)\n",
    "        self.conv2 = dglnn.GraphConv(hidden_dim, hidden_dim)\n",
    "        self.classify = nn.Linear(hidden_dim, n_classes)\n",
    "\n",
    "    def forward(self, g, h):\n",
    "        print(h.shape)\n",
    "        # 应用图卷积和激活函数\n",
    "        h = torch.relu(self.conv1(g, h))\n",
    "        h = torch.relu(self.conv2(g, h))\n",
    "        with g.local_scope():\n",
    "            g.ndata['h'] = h\n",
    "            # 使用平均读出计算图表示\n",
    "            hg = dgl.mean_nodes(g, 'h')\n",
    "            print(hg.shape)\n",
    "            return self.classify(hg)"
   ]
  },
  {
   "cell_type": "code",
   "execution_count": 8,
   "id": "fa7d0913-dd26-4900-9235-11a1476dd000",
   "metadata": {
    "scrolled": true,
    "tags": []
   },
   "outputs": [
    {
     "name": "stdout",
     "output_type": "stream",
     "text": [
      "torch.Size([3371, 7])\n",
      "torch.Size([188, 20])\n",
      "torch.Size([3371, 7])\n",
      "torch.Size([188, 20])\n",
      "torch.Size([3371, 7])\n",
      "torch.Size([188, 20])\n",
      "torch.Size([3371, 7])\n",
      "torch.Size([188, 20])\n",
      "torch.Size([3371, 7])\n",
      "torch.Size([188, 20])\n",
      "torch.Size([3371, 7])\n",
      "torch.Size([188, 20])\n",
      "torch.Size([3371, 7])\n",
      "torch.Size([188, 20])\n",
      "torch.Size([3371, 7])\n",
      "torch.Size([188, 20])\n",
      "torch.Size([3371, 7])\n",
      "torch.Size([188, 20])\n",
      "torch.Size([3371, 7])\n",
      "torch.Size([188, 20])\n",
      "torch.Size([3371, 7])\n",
      "torch.Size([188, 20])\n",
      "torch.Size([3371, 7])\n",
      "torch.Size([188, 20])\n",
      "torch.Size([3371, 7])\n",
      "torch.Size([188, 20])\n",
      "torch.Size([3371, 7])\n",
      "torch.Size([188, 20])\n",
      "torch.Size([3371, 7])\n",
      "torch.Size([188, 20])\n",
      "torch.Size([3371, 7])\n",
      "torch.Size([188, 20])\n",
      "torch.Size([3371, 7])\n",
      "torch.Size([188, 20])\n",
      "torch.Size([3371, 7])\n",
      "torch.Size([188, 20])\n",
      "torch.Size([3371, 7])\n",
      "torch.Size([188, 20])\n",
      "torch.Size([3371, 7])\n",
      "torch.Size([188, 20])\n"
     ]
    }
   ],
   "source": [
    "import dgl.data\n",
    "dataset = dgl.data.GINDataset('MUTAG', False)\n",
    "from dgl.dataloading import GraphDataLoader\n",
    "dataloader = GraphDataLoader(\n",
    "    dataset,\n",
    "    batch_size=1024,\n",
    "    drop_last=False,\n",
    "    shuffle=True)\n",
    "import torch.nn.functional as F\n",
    "\n",
    "# 这仅是个例子，特征尺寸是7\n",
    "model = Classifier(7, 20, 5)\n",
    "opt = torch.optim.Adam(model.parameters())\n",
    "for epoch in range(20):\n",
    "    for batched_graph, labels in dataloader:\n",
    "        feats = batched_graph.ndata['attr']\n",
    "        logits = model(batched_graph, feats)\n",
    "        loss = F.cross_entropy(logits, labels)\n",
    "        opt.zero_grad()\n",
    "        loss.backward()\n",
    "        opt.step()"
   ]
  },
  {
   "cell_type": "code",
   "execution_count": 5,
   "id": "26137a12-a87b-48cb-b128-252c39c916b3",
   "metadata": {},
   "outputs": [],
   "source": [
    "import pickle\n",
    "loss = pickle.load(open(\"./loss.ts\", \"rb\"))"
   ]
  },
  {
   "cell_type": "code",
   "execution_count": 12,
   "id": "c59ff618-009e-42a5-83b9-d5ffac9066e6",
   "metadata": {},
   "outputs": [
    {
     "data": {
      "text/plain": [
       "620323.06"
      ]
     },
     "execution_count": 12,
     "metadata": {},
     "output_type": "execute_result"
    }
   ],
   "source": [
    "import  torch\n",
    "import numpy as np\n",
    "np.mean([torch.sum(loss).numpy(),torch.sum(loss).numpy()])"
   ]
  },
  {
   "cell_type": "code",
   "execution_count": 13,
   "id": "0025ae4e-09dc-454a-8c9b-b932aef5f62a",
   "metadata": {},
   "outputs": [
    {
     "data": {
      "text/plain": [
       "tensor([8.9889, 6.2297, 5.7142,  ..., 1.4518, 5.7015, 2.2447])"
      ]
     },
     "execution_count": 13,
     "metadata": {},
     "output_type": "execute_result"
    }
   ],
   "source": [
    "loss"
   ]
  },
  {
   "cell_type": "code",
   "execution_count": null,
   "id": "108105b9-188b-4a34-b109-501db3db25f9",
   "metadata": {},
   "outputs": [],
   "source": [
    "test_list = [i for i in range(100000)]"
   ]
  },
  {
   "cell_type": "markdown",
   "id": "4655e5ef-a726-475c-914f-30c87154b5d0",
   "metadata": {},
   "source": [
    "# 查看预测结果"
   ]
  },
  {
   "cell_type": "code",
   "execution_count": 18,
   "id": "4002eb94-ed85-441d-afae-ef8b4209c87e",
   "metadata": {},
   "outputs": [
    {
     "data": {
      "text/plain": [
       "<torch.autograd.anomaly_mode.set_detect_anomaly at 0x7fdc0ff8a430>"
      ]
     },
     "execution_count": 18,
     "metadata": {},
     "output_type": "execute_result"
    }
   ],
   "source": [
    "import enum\n",
    "import copy\n",
    "import torch.nn.functional as F\n",
    "from torch.autograd import Variable\n",
    "# from torch import threshold\n",
    "# from multiprocessing import reduction\n",
    "import torch.multiprocessing as mp\n",
    "import torch\n",
    "import torch.nn as nn\n",
    "import argparse\n",
    "import os\n",
    "import pandas as pd\n",
    "import imp\n",
    "import math\n",
    "from numpy import array, zeros, argmin, inf, ndim\n",
    "import matplotlib.pyplot as plt\n",
    "from scipy import interpolate\n",
    "from shapely.geometry import LineString\n",
    "import json\n",
    "import itertools\n",
    "import re\n",
    "from datetime import datetime\n",
    "import time\n",
    "from torch.utils.data.dataset import Dataset\n",
    "from torch.utils.data.dataloader import DataLoader\n",
    "from ignite.engine import Events, create_supervised_trainer, create_supervised_evaluator, _prepare_batch\n",
    "from tqdm import tqdm\n",
    "import torch.nn.functional as F\n",
    "from ignite.metrics import Accuracy, Loss, RunningAverage\n",
    "from ignite.contrib.handlers import ProgressBar\n",
    "from ignite.engine.engine import Engine, State, Events\n",
    "from ignite.utils import convert_tensor\n",
    "import glob\n",
    "import yaml\n",
    "import pickle\n",
    "import random\n",
    "import numpy as np\n",
    "from datetime import timedelta\n",
    "from ignite.handlers import EarlyStopping, ModelCheckpoint\n",
    "from torch.optim import SGD, Adam, RMSprop\n",
    "from shapely.geometry import Polygon, MultiPolygon, MultiPoint, LineString, Point\n",
    "import functools\n",
    "# import model_bak as model\n",
    "import model\n",
    "import data\n",
    "import imp\n",
    "imp.reload(data)\n",
    "from dgl.dataloading import GraphDataLoader\n",
    "import dgl\n",
    "from torch import autograd\n",
    "import higher\n",
    "import torch.optim as optim\n",
    "try:\n",
    "    from tensorboardX import SummaryWriter\n",
    "except ImportError:\n",
    "    raise RuntimeError(\n",
    "        \"No tensorboardX package is found. Please install with the command: \\npip install tensorboardX\")\n",
    "import torch.multiprocessing\n",
    "torch.multiprocessing.set_sharing_strategy('file_system')\n",
    "\n",
    "import sys\n",
    "proj_dir = \"/home/hatim/data/DataCompletion/\"\n",
    "sys.path.append(proj_dir+\"code/\")\n",
    "import util\n",
    "import gc\n",
    "\n",
    "seed = 10\n",
    "torch.manual_seed(seed)\n",
    "if torch.cuda.is_available():\n",
    "    torch.cuda.manual_seed(seed)\n",
    "torch.autograd.set_detect_anomaly(True)"
   ]
  },
  {
   "cell_type": "code",
   "execution_count": 19,
   "id": "77711a88-917c-4e09-8922-166c05cde1c2",
   "metadata": {},
   "outputs": [],
   "source": [
    "# data.MyTrafficDataset.in_dim"
   ]
  },
  {
   "cell_type": "code",
   "execution_count": 20,
   "id": "6dc16697-a800-4cb9-8a81-7d269db9a127",
   "metadata": {},
   "outputs": [],
   "source": [
    "data_path=\"/home/hatim/data/DataCompletion/data\"\n",
    "city=\"chengdu\"\n",
    "interval_size=15\n",
    "min_num=1\n",
    "mask_rate=\"0.2\"\n",
    "hist_size=8\n",
    "max_speed=40\n",
    "# test_file=\"{}/{}/test_output_dataset_shuffle_sim_detail_0.2.txt.sample\".format(data_path, city)\n",
    "test_file=\"{}/{}/test_output_dataset_shuffle_sim_detail_{}_{}_{}_{}_{}.txt\".format(data_path,city,interval_size,min_num,mask_rate,hist_size,max_speed)\n",
    "edge_file=\"{}/{}/new_edge_dict.pk\".format(data_path, city)\n",
    "graph_file=\"{}/{}/subgraphs_128.pk\".format(data_path, city)\n",
    "avg_speed_file=\"{}/{}/linkid_avg_speed.txt\".format(data_path, city)\n",
    "test_batch_size=500\n",
    "num_workers=5\n",
    "batch_per_ep=500\n",
    "proj_dir = \"/home/hatim/data/DataCompletion/\"\n",
    "out_spatial_dim=50\n",
    "out_temporal_dim=50\n",
    "graph_layer=2\n",
    "rnn_layer=2\n",
    "spatial_context_dim=50\n",
    "temporal_context_dim=50\n",
    "hidden_size=100"
   ]
  },
  {
   "cell_type": "code",
   "execution_count": 1,
   "id": "fddfdcdb-24f5-4a63-a72b-a8cb2a37dd35",
   "metadata": {},
   "outputs": [
    {
     "data": {
      "text/plain": [
       "'ok'"
      ]
     },
     "execution_count": 1,
     "metadata": {},
     "output_type": "execute_result"
    }
   ],
   "source": [
    "\"ok\""
   ]
  },
  {
   "cell_type": "markdown",
   "id": "773d0939-7f9f-4c16-9598-fc5c9f2b1a11",
   "metadata": {},
   "source": [
    "### Meta查看预测结果"
   ]
  },
  {
   "cell_type": "code",
   "execution_count": 59,
   "id": "c5f8681b-16e4-44a7-8c2e-b04f423c244f",
   "metadata": {},
   "outputs": [],
   "source": [
    "use_meta, use_sim, time_flag = False, False, 72387635\n",
    "model_prefix = \"Meta_model_{}_{}_{}_\".format(use_meta, use_sim, time_flag)\n",
    "def my_collate_fn(batch):\n",
    "    first_layer_idx = []\n",
    "    weeks = []\n",
    "    minutes = []\n",
    "    # x = []\n",
    "    mask = []\n",
    "    sim_mask = []\n",
    "    x = []\n",
    "    y = []\n",
    "    batch_g = []\n",
    "    batch_idx = 0\n",
    "    for data in batch:\n",
    "        first_layer_idx.append(data['first_layer_idx'])\n",
    "        weeks.append(data['weeks'])\n",
    "        minutes.append(data['minutes'])\n",
    "        mask += data['mask']\n",
    "        sim_mask += data['sim_mask']\n",
    "        x += data['x']\n",
    "        y += data['y']\n",
    "        g = data['graph']\n",
    "        g.ndata['batch_idx'] = torch.LongTensor([batch_idx for _ in range(g.num_nodes())])\n",
    "        batch_g.append(g)\n",
    "    return torch.LongTensor(first_layer_idx), torch.LongTensor(weeks),\\\n",
    "        torch.LongTensor(minutes), dgl.batch(batch_g),\\\n",
    "            torch.FloatTensor(x), torch.FloatTensor(y), torch.LongTensor(mask), torch.LongTensor(sim_mask)\n",
    "\n"
   ]
  },
  {
   "cell_type": "code",
   "execution_count": 60,
   "id": "da596fa1-3642-4828-b175-8317e6bff4f3",
   "metadata": {},
   "outputs": [],
   "source": [
    "test_dataset = data.MyTrafficDataset(\n",
    "        file_path=test_file,\n",
    "        edge_file=edge_file,\n",
    "        graph_file=graph_file\n",
    "    )"
   ]
  },
  {
   "cell_type": "code",
   "execution_count": null,
   "id": "9b460bcd-5449-4061-8a99-e3b4b303b865",
   "metadata": {},
   "outputs": [],
   "source": []
  },
  {
   "cell_type": "code",
   "execution_count": 8,
   "id": "0c4cf0fd-f701-4176-b936-2be6b8ce2bdd",
   "metadata": {},
   "outputs": [],
   "source": [
    "# in_dim, spatial_feature_dim,out_spatial_dim, out_temporal_dim, graph_layer, \\\n",
    "#                 rnn_layer, spatial_context_dim, temporal_context_dim,\\\n",
    "#                 region_nums, link_nums, region_edges, hidden_size"
   ]
  },
  {
   "cell_type": "code",
   "execution_count": 50,
   "id": "37f774b5-0823-404b-9e87-12b843e8eea1",
   "metadata": {},
   "outputs": [],
   "source": [
    "avg_speed_tensor = None\n",
    "import pickle\n",
    "if avg_speed_file is not None:\n",
    "    abc = pickle.load(open(edge_file,\"rb\"))\n",
    "    edge_size = max(list(abc[1].keys())) + 1\n",
    "    assert edge_size > 0\n",
    "    avg_speed_list = [None for _ in range(edge_size)]\n",
    "    hist_size = None\n",
    "    for line in open(avg_speed_file, \"r\"):\n",
    "        line = line.strip().split(\"\\t\")\n",
    "        lid = int(line[0])\n",
    "        avg_speed_list[lid] = [float(t) for t in line[1:]]\n",
    "        if hist_size is None:\n",
    "            hist_size = len(line) - 1\n",
    "    # check 所有none的\n",
    "    for i, v in enumerate(avg_speed_list):\n",
    "        if v is None:\n",
    "            avg_speed_list[i] = [round(1.0/hist_size, 2) for _ in range(hist_size)]\n",
    "    avg_speed_tensor = torch.FloatTensor(avg_speed_list)"
   ]
  },
  {
   "cell_type": "code",
   "execution_count": null,
   "id": "6be6d9df-f402-400d-835a-8826e9627139",
   "metadata": {},
   "outputs": [],
   "source": []
  },
  {
   "cell_type": "code",
   "execution_count": 10,
   "id": "6423dd20-e20d-4d1d-a268-eae20f27a1cc",
   "metadata": {},
   "outputs": [
    {
     "data": {
      "text/plain": [
       "'ok'"
      ]
     },
     "execution_count": 10,
     "metadata": {},
     "output_type": "execute_result"
    }
   ],
   "source": [
    "\"ok\""
   ]
  },
  {
   "cell_type": "code",
   "execution_count": 51,
   "id": "d25b4dcd-7c3a-4945-bbb6-0eafb8c4e1d2",
   "metadata": {},
   "outputs": [
    {
     "data": {
      "text/plain": [
       "tensor([0.8100, 0.1900, 0.0000, 0.0000, 0.0000, 0.0000, 0.0000, 0.0000])"
      ]
     },
     "execution_count": 51,
     "metadata": {},
     "output_type": "execute_result"
    }
   ],
   "source": [
    "avg_speed_tensor[0]"
   ]
  },
  {
   "cell_type": "code",
   "execution_count": 52,
   "id": "5e2ca4d6-93ac-4fa1-aaba-ad26f10dcc36",
   "metadata": {},
   "outputs": [
    {
     "name": "stdout",
     "output_type": "stream",
     "text": [
      "the optimal epoch is: 48\n"
     ]
    },
    {
     "data": {
      "text/plain": [
       "<All keys matched successfully>"
      ]
     },
     "execution_count": 52,
     "metadata": {},
     "output_type": "execute_result"
    }
   ],
   "source": [
    "test_dataloader = DataLoader(test_dataset, collate_fn= my_collate_fn, \\\n",
    "    shuffle=False, batch_size=test_batch_size, num_workers=num_workers)\n",
    "import model\n",
    "import data\n",
    "imp.reload(data)\n",
    "data.MyTrafficDataset.in_dim = 8\n",
    "data.MyTrafficDataset.time_slot_num = 4\n",
    "# 构造model\n",
    "imp.reload(model)\n",
    "in_dim, spatial_feature_dim = data.MyTrafficDataset.in_dim, data.MyTrafficDataset.spatial_feature_dim\n",
    "time_slot_num = data.MyTrafficDataset.time_slot_num\n",
    "region_nums, link_nums = len(test_dataset.first_layer_edges), \\\n",
    "    len(test_dataset.new_part2id_dict)\n",
    "region_edge_start = []\n",
    "region_edge_end = []\n",
    "for i, p in enumerate(test_dataset.first_layer_edges):\n",
    "    region_edge_start += [i for _ in p]\n",
    "    region_edge_end += p\n",
    "region_edges =(region_edge_start, region_edge_end)\n",
    "meta_model = model.MetaSTC(time_slot_num, in_dim, spatial_feature_dim,\n",
    "                out_spatial_dim, out_temporal_dim, graph_layer, \n",
    "                rnn_layer, spatial_context_dim, temporal_context_dim,\n",
    "                region_nums, link_nums, region_edges, hidden_size, avg_speed_tensor=avg_speed_tensor)\n",
    "\n",
    "\n",
    "all_model_files = os.listdir(\"{}/model/\".format(proj_dir))\n",
    "epochs = [int(f[len(model_prefix):-3]) for f in all_model_files if f.startswith(model_prefix)]\n",
    "optimal_ep = max(epochs)\n",
    "print(\"the optimal epoch is: {}\".format(optimal_ep))\n",
    "meta_model.load_state_dict(torch.load(\"{}/model/{}{}.pt\".format(proj_dir,model_prefix,optimal_ep)))"
   ]
  },
  {
   "cell_type": "code",
   "execution_count": 45,
   "id": "1b131793-2a4d-4271-a22e-9d4092bd2063",
   "metadata": {},
   "outputs": [],
   "source": [
    "# for name, param in meta_model.named_parameters():\n",
    "#     print(name, param.size())"
   ]
  },
  {
   "cell_type": "code",
   "execution_count": 53,
   "id": "48e98b76-f918-4d80-b436-5bd127b6b915",
   "metadata": {},
   "outputs": [
    {
     "data": {
      "text/plain": [
       "MetaSTC(\n",
       "  (endecoder): EncoderDecoder(\n",
       "    (encoder): Encoder(\n",
       "      (temporal_rnn): LSTM(8, 50, num_layers=2, batch_first=True)\n",
       "      (gelu): GELU()\n",
       "      (batchnorm1): BatchNorm1d(8, eps=1e-05, momentum=0.1, affine=True, track_running_stats=True)\n",
       "    )\n",
       "    (week_embedding): Embedding(7, 5)\n",
       "    (minute_embedding): Embedding(288, 50)\n",
       "    (temporal_rnn): LSTM(55, 50, num_layers=2, batch_first=True)\n",
       "    (region_embedding): Embedding(128, 50)\n",
       "    (global_gcn): GraphConv(in=50, out=50, normalization=both, activation=None)\n",
       "    (link_embedding): Embedding(16874, 50)\n",
       "    (local_gcn): GraphConv(in=52, out=50, normalization=both, activation=None)\n",
       "    (gelu): GELU()\n",
       "    (fusion): Sequential(\n",
       "      (0): Linear(in_features=50, out_features=100, bias=True)\n",
       "      (1): GELU()\n",
       "      (2): Linear(in_features=100, out_features=50, bias=True)\n",
       "    )\n",
       "    (batchnorm1): BatchNorm1d(100, eps=1e-05, momentum=0.1, affine=True, track_running_stats=True)\n",
       "    (decoder): Decoder(\n",
       "      (temporal_rnn): LSTM(100, 50, num_layers=2, batch_first=True)\n",
       "      (gelu): GELU()\n",
       "      (batchnorm2): BatchNorm1d(150, eps=1e-05, momentum=0.1, affine=True, track_running_stats=True)\n",
       "      (batchnorm1): BatchNorm1d(100, eps=1e-05, momentum=0.1, affine=True, track_running_stats=True)\n",
       "    )\n",
       "    (extend_spatial): Sequential(\n",
       "      (0): Linear(in_features=50, out_features=100, bias=True)\n",
       "      (1): GELU()\n",
       "      (2): Linear(in_features=100, out_features=200, bias=True)\n",
       "    )\n",
       "    (extend_beta): Sequential(\n",
       "      (0): Linear(in_features=50, out_features=100, bias=True)\n",
       "      (1): GELU()\n",
       "      (2): Linear(in_features=100, out_features=200, bias=True)\n",
       "    )\n",
       "  )\n",
       "  (inver_predict_fc): Sequential(\n",
       "    (0): Linear(in_features=50, out_features=100, bias=True)\n",
       "    (1): GELU()\n",
       "    (2): Linear(in_features=100, out_features=2, bias=True)\n",
       "  )\n",
       "  (predict_fc): Sequential(\n",
       "    (0): Linear(in_features=50, out_features=100, bias=True)\n",
       "    (1): GELU()\n",
       "    (2): Linear(in_features=100, out_features=8, bias=True)\n",
       "  )\n",
       "  (gate): Sequential(\n",
       "    (0): Linear(in_features=50, out_features=100, bias=True)\n",
       "    (1): GELU()\n",
       "    (2): Linear(in_features=100, out_features=64, bias=True)\n",
       "  )\n",
       ")"
      ]
     },
     "execution_count": 53,
     "metadata": {},
     "output_type": "execute_result"
    }
   ],
   "source": [
    "meta_model.eval()\n",
    "# mse_metric_1 = torchmetrics.MeanSquaredError()\n",
    "# mse_metric_2 = torchmetrics.MeanSquaredError()\n",
    "# mape_metric_1 = torchmetrics.MeanAbsolutePercentageError()\n",
    "# mape_metric_2 = torchmetrics.MeanAbsolutePercentageError()\n",
    "# mae_metric_1 = torchmetrics.MeanAbsoluteError()\n",
    "# mae_metric_2 = torchmetrics.MeanAbsoluteError()"
   ]
  },
  {
   "cell_type": "code",
   "execution_count": 54,
   "id": "173e4552-7008-45f4-bfbf-a86cd9ef5202",
   "metadata": {},
   "outputs": [
    {
     "data": {
      "text/plain": [
       "tensor([[0.8100, 0.1900, 0.0000, 0.0000, 0.0000, 0.0000, 0.0000, 0.0000],\n",
       "        [0.3400, 0.5000, 0.1500, 0.0100, 0.0000, 0.0000, 0.0000, 0.0000],\n",
       "        [0.8800, 0.1200, 0.0000, 0.0000, 0.0000, 0.0000, 0.0000, 0.0000]])"
      ]
     },
     "execution_count": 54,
     "metadata": {},
     "output_type": "execute_result"
    }
   ],
   "source": [
    "avg_speed_tensor[:3]"
   ]
  },
  {
   "cell_type": "code",
   "execution_count": 58,
   "id": "bebb2485-e94e-4bce-9aa3-f52ceff71251",
   "metadata": {
    "scrolled": true,
    "tags": []
   },
   "outputs": [
    {
     "name": "stderr",
     "output_type": "stream",
     "text": [
      "  0%|          | 0/735 [00:00<?, ?it/s]"
     ]
    },
    {
     "name": "stdout",
     "output_type": "stream",
     "text": [
      "mask: tensor([[1, 1, 1, 1],\n",
      "        [1, 1, 1, 1],\n",
      "        [1, 1, 1, 1],\n",
      "        [1, 1, 1, 1],\n",
      "        [1, 1, 1, 1],\n",
      "        [1, 1, 1, 1],\n",
      "        [1, 1, 1, 1],\n",
      "        [1, 1, 1, 1],\n",
      "        [1, 1, 1, 1],\n",
      "        [0, 0, 0, 0]])\n",
      "sim_mask: tensor([[1, 1, 0, 1],\n",
      "        [1, 1, 1, 1],\n",
      "        [1, 1, 1, 1],\n",
      "        [1, 1, 1, 0],\n",
      "        [1, 1, 1, 1],\n",
      "        [1, 1, 1, 1],\n",
      "        [1, 1, 1, 1],\n",
      "        [1, 1, 1, 1],\n",
      "        [1, 1, 1, 0],\n",
      "        [0, 0, 0, 0]])\n",
      "x: tensor([[[0.0000, 0.0000, 0.0000, 0.6000, 0.4000, 0.0000, 0.0000, 0.0000],\n",
      "         [0.0000, 0.0000, 0.0000, 0.0000, 1.0000, 0.0000, 0.0000, 0.0000],\n",
      "         [0.0000, 0.0000, 0.0000, 0.0000, 0.0000, 0.0000, 0.0000, 0.0000],\n",
      "         [0.0000, 0.0000, 0.0000, 0.3300, 0.6700, 0.0000, 0.0000, 0.0000]],\n",
      "\n",
      "        [[0.0000, 0.0000, 0.0000, 0.6000, 0.4000, 0.0000, 0.0000, 0.0000],\n",
      "         [0.0000, 0.0000, 0.0000, 0.0000, 1.0000, 0.0000, 0.0000, 0.0000],\n",
      "         [0.0000, 0.0000, 0.0000, 0.5000, 0.5000, 0.0000, 0.0000, 0.0000],\n",
      "         [0.0000, 0.0000, 0.0000, 0.3300, 0.6700, 0.0000, 0.0000, 0.0000]],\n",
      "\n",
      "        [[0.0000, 0.0000, 0.0000, 0.6000, 0.4000, 0.0000, 0.0000, 0.0000],\n",
      "         [0.0000, 0.0000, 0.0000, 0.0000, 1.0000, 0.0000, 0.0000, 0.0000],\n",
      "         [0.0000, 0.0000, 0.0000, 0.5000, 0.5000, 0.0000, 0.0000, 0.0000],\n",
      "         [0.0000, 0.0000, 0.0000, 0.3300, 0.6700, 0.0000, 0.0000, 0.0000]],\n",
      "\n",
      "        [[0.0000, 0.0000, 0.0000, 0.6000, 0.4000, 0.0000, 0.0000, 0.0000],\n",
      "         [0.0000, 0.0000, 0.0000, 0.5000, 0.5000, 0.0000, 0.0000, 0.0000],\n",
      "         [0.0000, 0.0000, 0.0000, 0.5000, 0.5000, 0.0000, 0.0000, 0.0000],\n",
      "         [0.0000, 0.0000, 0.0000, 0.0000, 0.0000, 0.0000, 0.0000, 0.0000]],\n",
      "\n",
      "        [[0.0000, 0.0000, 0.0000, 0.6000, 0.4000, 0.0000, 0.0000, 0.0000],\n",
      "         [0.0000, 0.0000, 0.0000, 0.5000, 0.5000, 0.0000, 0.0000, 0.0000],\n",
      "         [0.0000, 0.0000, 0.0000, 0.5000, 0.5000, 0.0000, 0.0000, 0.0000],\n",
      "         [0.0000, 0.0000, 0.0000, 0.3300, 0.6700, 0.0000, 0.0000, 0.0000]],\n",
      "\n",
      "        [[0.0000, 0.0000, 0.0000, 0.6000, 0.4000, 0.0000, 0.0000, 0.0000],\n",
      "         [0.0000, 0.0000, 0.0000, 0.0000, 1.0000, 0.0000, 0.0000, 0.0000],\n",
      "         [0.0000, 0.0000, 0.0000, 0.5000, 0.5000, 0.0000, 0.0000, 0.0000],\n",
      "         [0.0000, 0.0000, 0.0000, 0.3300, 0.6700, 0.0000, 0.0000, 0.0000]],\n",
      "\n",
      "        [[0.0000, 0.0000, 0.0000, 0.6000, 0.4000, 0.0000, 0.0000, 0.0000],\n",
      "         [0.0000, 0.0000, 0.0000, 0.0000, 1.0000, 0.0000, 0.0000, 0.0000],\n",
      "         [0.0000, 0.0000, 0.0000, 0.5000, 0.5000, 0.0000, 0.0000, 0.0000],\n",
      "         [0.0000, 0.0000, 0.0000, 0.3300, 0.6700, 0.0000, 0.0000, 0.0000]],\n",
      "\n",
      "        [[0.0000, 0.0000, 0.0000, 0.6000, 0.4000, 0.0000, 0.0000, 0.0000],\n",
      "         [0.0000, 0.0000, 0.0000, 0.0000, 1.0000, 0.0000, 0.0000, 0.0000],\n",
      "         [0.0000, 0.0000, 0.0000, 0.5000, 0.5000, 0.0000, 0.0000, 0.0000],\n",
      "         [0.0000, 0.0000, 0.0000, 0.3300, 0.6700, 0.0000, 0.0000, 0.0000]],\n",
      "\n",
      "        [[0.0000, 0.0000, 0.0000, 0.6000, 0.4000, 0.0000, 0.0000, 0.0000],\n",
      "         [0.0000, 0.0000, 0.0000, 0.0000, 1.0000, 0.0000, 0.0000, 0.0000],\n",
      "         [0.0000, 0.0000, 0.0000, 0.5000, 0.5000, 0.0000, 0.0000, 0.0000],\n",
      "         [0.0000, 0.0000, 0.0000, 0.0000, 0.0000, 0.0000, 0.0000, 0.0000]],\n",
      "\n",
      "        [[0.0000, 0.0000, 0.0000, 0.0000, 0.0000, 0.0000, 0.0000, 0.0000],\n",
      "         [0.0000, 0.0000, 0.0000, 0.0000, 0.0000, 0.0000, 0.0000, 0.0000],\n",
      "         [0.0000, 0.0000, 0.0000, 0.0000, 0.0000, 0.0000, 0.0000, 0.0000],\n",
      "         [0.0000, 0.0000, 0.0000, 0.0000, 0.0000, 0.0000, 0.0000, 0.0000]]])\n",
      "y: tensor([[[0.0000, 0.0000, 0.0000, 0.6000, 0.4000, 0.0000, 0.0000, 0.0000],\n",
      "         [0.0000, 0.0000, 0.0000, 0.0000, 1.0000, 0.0000, 0.0000, 0.0000],\n",
      "         [0.0000, 0.0000, 0.0000, 0.5000, 0.5000, 0.0000, 0.0000, 0.0000],\n",
      "         [0.0000, 0.0000, 0.0000, 0.3300, 0.6700, 0.0000, 0.0000, 0.0000]],\n",
      "\n",
      "        [[0.0000, 0.0000, 0.0000, 0.6000, 0.4000, 0.0000, 0.0000, 0.0000],\n",
      "         [0.0000, 0.0000, 0.0000, 0.0000, 1.0000, 0.0000, 0.0000, 0.0000],\n",
      "         [0.0000, 0.0000, 0.0000, 0.5000, 0.5000, 0.0000, 0.0000, 0.0000],\n",
      "         [0.0000, 0.0000, 0.0000, 0.3300, 0.6700, 0.0000, 0.0000, 0.0000]],\n",
      "\n",
      "        [[0.0000, 0.0000, 0.0000, 0.6000, 0.4000, 0.0000, 0.0000, 0.0000],\n",
      "         [0.0000, 0.0000, 0.0000, 0.0000, 1.0000, 0.0000, 0.0000, 0.0000],\n",
      "         [0.0000, 0.0000, 0.0000, 0.5000, 0.5000, 0.0000, 0.0000, 0.0000],\n",
      "         [0.0000, 0.0000, 0.0000, 0.3300, 0.6700, 0.0000, 0.0000, 0.0000]],\n",
      "\n",
      "        [[0.0000, 0.0000, 0.0000, 0.6000, 0.4000, 0.0000, 0.0000, 0.0000],\n",
      "         [0.0000, 0.0000, 0.0000, 0.5000, 0.5000, 0.0000, 0.0000, 0.0000],\n",
      "         [0.0000, 0.0000, 0.0000, 0.5000, 0.5000, 0.0000, 0.0000, 0.0000],\n",
      "         [0.0000, 0.0000, 0.0000, 0.3300, 0.6700, 0.0000, 0.0000, 0.0000]],\n",
      "\n",
      "        [[0.0000, 0.0000, 0.0000, 0.6000, 0.4000, 0.0000, 0.0000, 0.0000],\n",
      "         [0.0000, 0.0000, 0.0000, 0.5000, 0.5000, 0.0000, 0.0000, 0.0000],\n",
      "         [0.0000, 0.0000, 0.0000, 0.5000, 0.5000, 0.0000, 0.0000, 0.0000],\n",
      "         [0.0000, 0.0000, 0.0000, 0.3300, 0.6700, 0.0000, 0.0000, 0.0000]],\n",
      "\n",
      "        [[0.0000, 0.0000, 0.0000, 0.6000, 0.4000, 0.0000, 0.0000, 0.0000],\n",
      "         [0.0000, 0.0000, 0.0000, 0.0000, 1.0000, 0.0000, 0.0000, 0.0000],\n",
      "         [0.0000, 0.0000, 0.0000, 0.5000, 0.5000, 0.0000, 0.0000, 0.0000],\n",
      "         [0.0000, 0.0000, 0.0000, 0.3300, 0.6700, 0.0000, 0.0000, 0.0000]],\n",
      "\n",
      "        [[0.0000, 0.0000, 0.0000, 0.6000, 0.4000, 0.0000, 0.0000, 0.0000],\n",
      "         [0.0000, 0.0000, 0.0000, 0.0000, 1.0000, 0.0000, 0.0000, 0.0000],\n",
      "         [0.0000, 0.0000, 0.0000, 0.5000, 0.5000, 0.0000, 0.0000, 0.0000],\n",
      "         [0.0000, 0.0000, 0.0000, 0.3300, 0.6700, 0.0000, 0.0000, 0.0000]],\n",
      "\n",
      "        [[0.0000, 0.0000, 0.0000, 0.6000, 0.4000, 0.0000, 0.0000, 0.0000],\n",
      "         [0.0000, 0.0000, 0.0000, 0.0000, 1.0000, 0.0000, 0.0000, 0.0000],\n",
      "         [0.0000, 0.0000, 0.0000, 0.5000, 0.5000, 0.0000, 0.0000, 0.0000],\n",
      "         [0.0000, 0.0000, 0.0000, 0.3300, 0.6700, 0.0000, 0.0000, 0.0000]],\n",
      "\n",
      "        [[0.0000, 0.0000, 0.0000, 0.6000, 0.4000, 0.0000, 0.0000, 0.0000],\n",
      "         [0.0000, 0.0000, 0.0000, 0.0000, 1.0000, 0.0000, 0.0000, 0.0000],\n",
      "         [0.0000, 0.0000, 0.0000, 0.5000, 0.5000, 0.0000, 0.0000, 0.0000],\n",
      "         [0.0000, 0.0000, 0.0000, 0.3300, 0.6700, 0.0000, 0.0000, 0.0000]],\n",
      "\n",
      "        [[0.0000, 0.0000, 0.0000, 0.0000, 0.0000, 0.0000, 0.0000, 0.0000],\n",
      "         [0.0000, 0.0000, 0.0000, 0.0000, 0.0000, 0.0000, 0.0000, 0.0000],\n",
      "         [0.0000, 0.0000, 0.0000, 0.0000, 0.0000, 0.0000, 0.0000, 0.0000],\n",
      "         [0.0000, 0.0000, 0.0000, 0.0000, 0.0000, 0.0000, 0.0000, 0.0000]]])\n",
      "predict_1: tensor([[[0.0000e+00, 0.0000e+00, 2.9318e-04, 5.9996e-01, 3.9975e-01,\n",
      "          0.0000e+00, 0.0000e+00, 0.0000e+00],\n",
      "         [0.0000e+00, 0.0000e+00, 2.6680e-04, 8.6236e-05, 9.9965e-01,\n",
      "          0.0000e+00, 0.0000e+00, 0.0000e+00],\n",
      "         [0.0000e+00, 0.0000e+00, 5.7598e-01, 1.7206e-01, 2.5195e-01,\n",
      "          0.0000e+00, 0.0000e+00, 0.0000e+00],\n",
      "         [0.0000e+00, 0.0000e+00, 1.0059e-03, 3.2917e-01, 6.6982e-01,\n",
      "          0.0000e+00, 0.0000e+00, 0.0000e+00]],\n",
      "\n",
      "        [[0.0000e+00, 0.0000e+00, 2.9163e-04, 5.9996e-01, 3.9975e-01,\n",
      "          0.0000e+00, 0.0000e+00, 0.0000e+00],\n",
      "         [0.0000e+00, 0.0000e+00, 2.7427e-04, 1.0371e-04, 9.9962e-01,\n",
      "          0.0000e+00, 0.0000e+00, 0.0000e+00],\n",
      "         [0.0000e+00, 0.0000e+00, 3.0254e-04, 4.9997e-01, 4.9973e-01,\n",
      "          0.0000e+00, 0.0000e+00, 0.0000e+00],\n",
      "         [0.0000e+00, 0.0000e+00, 1.0098e-03, 3.2917e-01, 6.6982e-01,\n",
      "          0.0000e+00, 0.0000e+00, 0.0000e+00]],\n",
      "\n",
      "        [[0.0000e+00, 0.0000e+00, 2.9462e-04, 5.9996e-01, 3.9974e-01,\n",
      "          0.0000e+00, 0.0000e+00, 0.0000e+00],\n",
      "         [0.0000e+00, 0.0000e+00, 2.8284e-04, 1.2145e-04, 9.9960e-01,\n",
      "          0.0000e+00, 0.0000e+00, 0.0000e+00],\n",
      "         [0.0000e+00, 0.0000e+00, 3.0632e-04, 4.9998e-01, 4.9972e-01,\n",
      "          0.0000e+00, 0.0000e+00, 0.0000e+00],\n",
      "         [0.0000e+00, 0.0000e+00, 1.0151e-03, 3.2916e-01, 6.6983e-01,\n",
      "          0.0000e+00, 0.0000e+00, 0.0000e+00]],\n",
      "\n",
      "        [[0.0000e+00, 0.0000e+00, 2.9366e-04, 5.9996e-01, 3.9975e-01,\n",
      "          0.0000e+00, 0.0000e+00, 0.0000e+00],\n",
      "         [0.0000e+00, 0.0000e+00, 2.8095e-04, 4.9989e-01, 4.9983e-01,\n",
      "          0.0000e+00, 0.0000e+00, 0.0000e+00],\n",
      "         [0.0000e+00, 0.0000e+00, 3.0588e-04, 4.9997e-01, 4.9972e-01,\n",
      "          0.0000e+00, 0.0000e+00, 0.0000e+00],\n",
      "         [0.0000e+00, 0.0000e+00, 5.1197e-01, 2.7438e-01, 2.1365e-01,\n",
      "          0.0000e+00, 0.0000e+00, 0.0000e+00]],\n",
      "\n",
      "        [[0.0000e+00, 0.0000e+00, 2.9163e-04, 5.9996e-01, 3.9975e-01,\n",
      "          0.0000e+00, 0.0000e+00, 0.0000e+00],\n",
      "         [0.0000e+00, 0.0000e+00, 2.7148e-04, 4.9990e-01, 4.9983e-01,\n",
      "          0.0000e+00, 0.0000e+00, 0.0000e+00],\n",
      "         [0.0000e+00, 0.0000e+00, 2.9949e-04, 4.9996e-01, 4.9974e-01,\n",
      "          0.0000e+00, 0.0000e+00, 0.0000e+00],\n",
      "         [0.0000e+00, 0.0000e+00, 1.0080e-03, 3.2917e-01, 6.6982e-01,\n",
      "          0.0000e+00, 0.0000e+00, 0.0000e+00]],\n",
      "\n",
      "        [[0.0000e+00, 0.0000e+00, 2.9152e-04, 5.9996e-01, 3.9975e-01,\n",
      "          0.0000e+00, 0.0000e+00, 0.0000e+00],\n",
      "         [0.0000e+00, 0.0000e+00, 2.7427e-04, 1.0269e-04, 9.9962e-01,\n",
      "          0.0000e+00, 0.0000e+00, 0.0000e+00],\n",
      "         [0.0000e+00, 0.0000e+00, 3.0224e-04, 4.9997e-01, 4.9973e-01,\n",
      "          0.0000e+00, 0.0000e+00, 0.0000e+00],\n",
      "         [0.0000e+00, 0.0000e+00, 1.0094e-03, 3.2917e-01, 6.6982e-01,\n",
      "          0.0000e+00, 0.0000e+00, 0.0000e+00]],\n",
      "\n",
      "        [[0.0000e+00, 0.0000e+00, 2.9876e-04, 5.9996e-01, 3.9974e-01,\n",
      "          0.0000e+00, 0.0000e+00, 0.0000e+00],\n",
      "         [0.0000e+00, 0.0000e+00, 2.8999e-04, 1.3658e-04, 9.9957e-01,\n",
      "          0.0000e+00, 0.0000e+00, 0.0000e+00],\n",
      "         [0.0000e+00, 0.0000e+00, 3.0740e-04, 4.9999e-01, 4.9971e-01,\n",
      "          0.0000e+00, 0.0000e+00, 0.0000e+00],\n",
      "         [0.0000e+00, 0.0000e+00, 1.0204e-03, 3.2915e-01, 6.6983e-01,\n",
      "          0.0000e+00, 0.0000e+00, 0.0000e+00]],\n",
      "\n",
      "        [[0.0000e+00, 0.0000e+00, 3.0060e-04, 5.9996e-01, 3.9973e-01,\n",
      "          0.0000e+00, 0.0000e+00, 0.0000e+00],\n",
      "         [0.0000e+00, 0.0000e+00, 2.9314e-04, 1.4366e-04, 9.9956e-01,\n",
      "          0.0000e+00, 0.0000e+00, 0.0000e+00],\n",
      "         [0.0000e+00, 0.0000e+00, 3.0800e-04, 4.9999e-01, 4.9970e-01,\n",
      "          0.0000e+00, 0.0000e+00, 0.0000e+00],\n",
      "         [0.0000e+00, 0.0000e+00, 1.0230e-03, 3.2915e-01, 6.6983e-01,\n",
      "          0.0000e+00, 0.0000e+00, 0.0000e+00]],\n",
      "\n",
      "        [[0.0000e+00, 0.0000e+00, 2.9263e-04, 5.9996e-01, 3.9975e-01,\n",
      "          0.0000e+00, 0.0000e+00, 0.0000e+00],\n",
      "         [0.0000e+00, 0.0000e+00, 2.7846e-04, 1.1247e-04, 9.9961e-01,\n",
      "          0.0000e+00, 0.0000e+00, 0.0000e+00],\n",
      "         [0.0000e+00, 0.0000e+00, 3.0503e-04, 4.9997e-01, 4.9972e-01,\n",
      "          0.0000e+00, 0.0000e+00, 0.0000e+00],\n",
      "         [0.0000e+00, 0.0000e+00, 5.1235e-01, 2.7358e-01, 2.1407e-01,\n",
      "          0.0000e+00, 0.0000e+00, 0.0000e+00]],\n",
      "\n",
      "        [[9.6427e-02, 2.8274e-01, 3.2715e-01, 1.3098e-01, 1.6271e-01,\n",
      "          0.0000e+00, 0.0000e+00, 0.0000e+00],\n",
      "         [4.0704e-02, 4.0256e-01, 2.8066e-01, 9.2794e-02, 1.8328e-01,\n",
      "          0.0000e+00, 0.0000e+00, 0.0000e+00],\n",
      "         [1.6841e-01, 2.8551e-01, 3.1361e-01, 9.5533e-02, 1.3694e-01,\n",
      "          0.0000e+00, 0.0000e+00, 0.0000e+00],\n",
      "         [1.9555e-01, 3.4490e-01, 2.3618e-01, 1.2424e-01, 9.9125e-02,\n",
      "          0.0000e+00, 0.0000e+00, 0.0000e+00]]])\n"
     ]
    },
    {
     "name": "stderr",
     "output_type": "stream",
     "text": [
      "  0%|          | 0/735 [00:06<?, ?it/s]\n"
     ]
    }
   ],
   "source": [
    "with torch.no_grad():\n",
    "    for dt in tqdm(test_dataloader):\n",
    "        first_layer_idx, weeks, minutes, batch_g, x, y, mask, sim_mask = dt\n",
    "        alpha_beta, predict_1 = meta_model(x=(batch_g, x, weeks, minutes, first_layer_idx, mask, sim_mask),first_round=True)\n",
    "        _, predict_2 = meta_model(x=(batch_g, predict_1, weeks, minutes, first_layer_idx, mask, sim_mask),first_round=True)\n",
    "        print(\"mask:\", mask[:10])\n",
    "        print(\"sim_mask:\", sim_mask[:10])\n",
    "        print(\"x:\",x[:10])\n",
    "        print(\"y:\",y[:10])\n",
    "        print(\"predict_1:\",predict_1[:10])\n",
    "        \n",
    "        # print(\"predict_2:\",predict_2[:10])\n",
    "        # print(\"the batch size is: {}\".format(y.shape[0]))\n",
    "        # cum_num = 0\n",
    "        # for p in range(y.shape[0]):\n",
    "        #     if mask[p][0] > 0:\n",
    "        #         cum_num += 1\n",
    "        #         # print(p, x[p], y[p])\n",
    "        #         print(\"alpha_beta:\",alpha_beta[p][:,:20], alpha_beta[p][:,-20:])\n",
    "        #         # print(\"predict_1:\",predict_1[p])\n",
    "        #         # print(\"predict_2:\",predict_2[p])\n",
    "        #         if cum_num > 100:\n",
    "        #             break\n",
    "        #         # print(x[p])\n",
    "        # print(cum_num)\n",
    "        break"
   ]
  },
  {
   "cell_type": "markdown",
   "id": "d4b88f51-c670-4ea4-89a8-3a100b7e4626",
   "metadata": {},
   "source": [
    "### GCN查看预测结果"
   ]
  },
  {
   "cell_type": "code",
   "execution_count": 27,
   "id": "9a667ebb-518a-462e-80ac-78bc549a1b13",
   "metadata": {},
   "outputs": [],
   "source": [
    "import sys\n",
    "sys.path.append(\"./baseline\")\n",
    "import gnn"
   ]
  },
  {
   "cell_type": "code",
   "execution_count": null,
   "id": "087964a7-4e66-4dbe-916a-d0fc183d2a03",
   "metadata": {},
   "outputs": [],
   "source": []
  },
  {
   "cell_type": "code",
   "execution_count": 29,
   "id": "ac417b8f-a79a-4dc5-b982-61bbd762a5f7",
   "metadata": {},
   "outputs": [],
   "source": [
    "def gcn_collate_fn(batch):\n",
    "    first_layer_idx = []\n",
    "    weeks = []\n",
    "    minutes = []\n",
    "    x = []\n",
    "    mask = []\n",
    "    sim_mask = []\n",
    "    y = []\n",
    "    batch_g = []\n",
    "    batch_idx = 0\n",
    "    for data in batch:\n",
    "        first_layer_idx.append(data['first_layer_idx'])\n",
    "        weeks.append(data['weeks'])\n",
    "        minutes.append(data['minutes'])\n",
    "        mask += data['mask']\n",
    "        sim_mask += data['sim_mask']\n",
    "        x += data['x']\n",
    "        y += data['y']\n",
    "        g = data['graph']\n",
    "        g.ndata['batch_idx'] = torch.LongTensor([batch_idx for _ in range(g.num_nodes())])\n",
    "        batch_idx += 1\n",
    "        batch_g.append(g)\n",
    "    return torch.LongTensor(first_layer_idx), torch.LongTensor(weeks),\\\n",
    "        torch.LongTensor(minutes), dgl.batch(batch_g),\\\n",
    "            torch.FloatTensor(x),torch.FloatTensor(y), torch.LongTensor(mask), torch.LongTensor(sim_mask)"
   ]
  },
  {
   "cell_type": "code",
   "execution_count": 30,
   "id": "149a0616-bd32-4627-8963-3b01903c538b",
   "metadata": {},
   "outputs": [],
   "source": [
    "test_dataset = data.MyTrafficDataset(\n",
    "        file_path=test_file,\n",
    "        edge_file=edge_file,\n",
    "        graph_file=graph_file\n",
    "    )"
   ]
  },
  {
   "cell_type": "code",
   "execution_count": 35,
   "id": "6ac64c0f-4b94-41f2-af57-63c129795896",
   "metadata": {},
   "outputs": [
    {
     "name": "stdout",
     "output_type": "stream",
     "text": [
      "the optimal epoch is: 1\n"
     ]
    },
    {
     "data": {
      "text/plain": [
       "<All keys matched successfully>"
      ]
     },
     "execution_count": 35,
     "metadata": {},
     "output_type": "execute_result"
    }
   ],
   "source": [
    "test_dataloader = DataLoader(test_dataset, collate_fn= gcn_collate_fn, \\\n",
    "    shuffle=False, batch_size=test_batch_size, num_workers=num_workers)\n",
    "\n",
    "# 构造model\n",
    "in_dim, spatial_feature_dim = data.MyTrafficDataset.in_dim, data.MyTrafficDataset.spatial_feature_dim\n",
    "region_nums, link_nums = len(test_dataset.first_layer_edges), \\\n",
    "    len(test_dataset.new_part2id_dict)\n",
    "device=\"cpu\"\n",
    "model = gnn.GCNNet(in_dim,spatial_feature_dim, hidden_size,\n",
    "                    \"spatial_feature\",link_nums,\n",
    "                    device)\n",
    "time_flag = 54592794\n",
    "model_prefix = \"gcn_model_{}_\".format(time_flag)\n",
    "all_model_files = os.listdir(\"{}/model/\".format(proj_dir))\n",
    "epochs = [int(f[len(model_prefix):-3]) for f in all_model_files if f.startswith(model_prefix)]\n",
    "optimal_ep = max(epochs)\n",
    "print(\"the optimal epoch is: {}\".format(optimal_ep))\n",
    "model.load_state_dict(torch.load(\"{}/model/{}{}.pt\".format(proj_dir,model_prefix,optimal_ep)))"
   ]
  },
  {
   "cell_type": "code",
   "execution_count": 39,
   "id": "1170e3bf-caa0-4235-b028-98646f44d183",
   "metadata": {},
   "outputs": [
    {
     "name": "stdout",
     "output_type": "stream",
     "text": [
      "encoder_conv.weight Parameter containing:\n",
      "tensor([[-0.0908,  0.0450, -0.1306, -0.0516,  0.0659,  0.2038,  0.0539, -0.0777,\n",
      "         -0.0134, -0.0257,  0.0841,  0.0293,  0.0604,  0.2259, -0.0971, -0.0081,\n",
      "          0.0526, -0.0172, -0.0503, -0.2021, -0.1971, -0.2056, -0.2247, -0.2129,\n",
      "         -0.1732, -0.2062, -0.2144,  0.0735,  0.1368,  0.1398,  0.1144,  0.0775,\n",
      "          0.1007, -0.1276,  0.1760, -0.0246,  0.1972,  0.0594,  0.1788,  0.1398,\n",
      "         -0.0537, -0.0664,  0.0337, -0.0227,  0.0024,  0.1158, -0.1785, -0.0105,\n",
      "         -0.1792,  0.2240, -0.1607,  0.0336, -0.0623,  0.1299,  0.0012, -0.0456,\n",
      "          0.1405,  0.1821, -0.1658, -0.2204,  0.0147,  0.0719,  0.0522,  0.1893,\n",
      "          0.0969, -0.1088, -0.1565,  0.1625,  0.1986, -0.1238, -0.1469,  0.0678,\n",
      "         -0.1706, -0.0552, -0.2341,  0.0528, -0.0820, -0.1285, -0.1450, -0.0804,\n",
      "          0.0953,  0.0105,  0.1612, -0.0901, -0.0765,  0.2159, -0.2253, -0.1174,\n",
      "         -0.1417,  0.2197,  0.1216, -0.0765, -0.1084,  0.0700, -0.0857,  0.0566,\n",
      "         -0.1202, -0.1402, -0.0057,  0.1269],\n",
      "        [ 0.1855,  0.0429, -0.1356,  0.1074,  0.0657,  0.0866, -0.0761, -0.0322,\n",
      "          0.0689,  0.0936,  0.1416, -0.1339,  0.1125, -0.0846, -0.0075, -0.1075,\n",
      "         -0.0677,  0.1368,  0.1631,  0.0797, -0.1714, -0.0843,  0.1534, -0.0618,\n",
      "         -0.1871,  0.0519, -0.2045, -0.0291, -0.0314, -0.0125, -0.0631, -0.0334,\n",
      "         -0.1381, -0.1526,  0.0439,  0.1967, -0.1825, -0.2264, -0.1236,  0.1752,\n",
      "          0.1965, -0.2223,  0.0534,  0.0168,  0.1667, -0.0686,  0.0758, -0.1132,\n",
      "         -0.2133,  0.0289, -0.1105, -0.0249, -0.0504, -0.1848,  0.1353,  0.1329,\n",
      "          0.1468,  0.0023, -0.2159, -0.1827, -0.0302, -0.0237, -0.2073,  0.1192,\n",
      "         -0.1761, -0.0096, -0.2180,  0.0490, -0.0198,  0.1413,  0.0327, -0.1924,\n",
      "          0.2069, -0.1965,  0.1005, -0.1690,  0.1141,  0.0529,  0.0626, -0.0544,\n",
      "          0.1948,  0.2181, -0.0602, -0.0828,  0.0239,  0.1392,  0.2031,  0.1779,\n",
      "          0.1066,  0.0263, -0.1679, -0.1741,  0.1396, -0.2059, -0.0181,  0.1701,\n",
      "         -0.2020, -0.1560, -0.2272,  0.1176],\n",
      "        [ 0.0416,  0.1303, -0.0306, -0.0857,  0.1688, -0.1599, -0.1466,  0.1551,\n",
      "          0.1752, -0.1173, -0.2280,  0.0143, -0.0318,  0.0723,  0.1205,  0.0254,\n",
      "         -0.1476, -0.0323,  0.0749,  0.0376, -0.1565, -0.0138, -0.0454, -0.0987,\n",
      "          0.1154,  0.0894,  0.1915,  0.1635, -0.0121, -0.1992,  0.0664,  0.1193,\n",
      "          0.1367,  0.1368,  0.0937,  0.0402,  0.0153,  0.1030, -0.2262,  0.0693,\n",
      "          0.0558,  0.0609, -0.0646,  0.0520,  0.0198, -0.2225, -0.1072,  0.1140,\n",
      "         -0.1582, -0.0779,  0.1328,  0.1069, -0.1768,  0.1015, -0.1643,  0.1762,\n",
      "         -0.0507,  0.0041,  0.0660, -0.1757,  0.1570, -0.1512, -0.2038,  0.0209,\n",
      "          0.0589,  0.1613, -0.1867, -0.0618,  0.1582,  0.1061, -0.1905, -0.0210,\n",
      "          0.0232, -0.1518,  0.1302,  0.0083, -0.0784,  0.1129,  0.0903,  0.1746,\n",
      "          0.0733, -0.1866,  0.0821,  0.0912,  0.0339, -0.1461,  0.0160,  0.1953,\n",
      "         -0.0156, -0.1191, -0.2173,  0.0018,  0.0702,  0.0060,  0.0540,  0.0671,\n",
      "          0.1248,  0.1998,  0.0178, -0.1727],\n",
      "        [ 0.0146, -0.0864,  0.1310,  0.0706,  0.0561,  0.0939, -0.1976, -0.0804,\n",
      "          0.1091, -0.1084,  0.0692,  0.1640,  0.1404, -0.1670,  0.0957, -0.0092,\n",
      "          0.0669,  0.1896,  0.0844, -0.2216,  0.0525, -0.1983,  0.1592, -0.1928,\n",
      "          0.2257, -0.1618,  0.0834,  0.0761,  0.0732,  0.2005,  0.0320, -0.2153,\n",
      "         -0.2163,  0.2263,  0.0129, -0.0579, -0.0652,  0.0611, -0.0571,  0.0270,\n",
      "         -0.1363,  0.1134, -0.0425,  0.1618,  0.1720,  0.0651,  0.0590, -0.2088,\n",
      "         -0.0372, -0.1411, -0.1742,  0.1236, -0.1979, -0.0583, -0.0541, -0.1044,\n",
      "         -0.0915, -0.0911,  0.1869,  0.1836, -0.1596, -0.2158,  0.1154, -0.1687,\n",
      "          0.1070,  0.0405, -0.0990,  0.0272, -0.1921,  0.0175,  0.1867,  0.1759,\n",
      "          0.0953, -0.1130,  0.1662,  0.2014,  0.0858, -0.1328, -0.1212, -0.1747,\n",
      "         -0.1265, -0.0159,  0.0708,  0.0940,  0.0913, -0.0626,  0.1681, -0.0562,\n",
      "         -0.1274, -0.1993,  0.1673,  0.0340,  0.0842, -0.1083,  0.1795, -0.1221,\n",
      "          0.1881,  0.1369, -0.1330, -0.0457]], requires_grad=True)\n",
      "encoder_conv.bias Parameter containing:\n",
      "tensor([-4.2420e-04, -1.5876e-04,  2.7727e-04, -2.8402e-04, -7.0459e-04,\n",
      "        -1.4459e-04,  5.0055e-05,  1.7017e-04, -1.1569e-03,  5.1554e-05,\n",
      "        -2.5990e-04,  2.2591e-04, -9.4742e-04,  4.2451e-05,  7.4003e-05,\n",
      "        -9.7863e-05,  2.0274e-04, -5.5012e-04, -1.0281e-03,  1.4670e-04,\n",
      "        -1.4744e-05, -2.6478e-04, -2.3997e-04, -5.6376e-04,  9.7145e-05,\n",
      "        -2.2758e-04, -7.7495e-05, -9.1433e-04, -1.5514e-04, -4.7124e-04,\n",
      "        -1.4326e-04, -5.7156e-05,  1.4028e-04, -5.3913e-05, -1.0693e-03,\n",
      "        -1.5497e-04,  1.7262e-04, -3.5070e-04,  7.4670e-05, -1.3033e-03,\n",
      "        -2.2594e-04,  1.0794e-04, -2.2773e-04, -5.1811e-04, -9.9615e-04,\n",
      "        -7.7732e-05,  3.1161e-05,  7.3899e-06,  3.8545e-04,  7.7387e-05,\n",
      "        -1.7799e-04, -3.5105e-04,  2.4208e-04,  5.7770e-05,  1.9871e-04,\n",
      "        -6.9596e-04, -8.2369e-04, -1.1110e-03,  6.0655e-05, -4.6248e-05,\n",
      "        -1.8917e-04, -2.3972e-04,  7.6410e-05, -6.3880e-04, -2.9210e-04,\n",
      "        -5.9065e-05, -3.3775e-04, -5.0586e-04, -7.3639e-04, -5.4831e-04,\n",
      "        -3.7878e-04, -3.8650e-04, -2.0741e-04,  1.3359e-04, -2.8031e-04,\n",
      "        -3.5936e-04, -3.7125e-04, -3.0528e-04,  1.2975e-04, -2.0586e-04,\n",
      "        -3.9200e-04, -1.8400e-04, -1.1900e-03, -3.3303e-04, -4.4906e-04,\n",
      "        -9.7868e-05, -2.3157e-04, -8.3091e-04,  1.0733e-05, -3.5511e-04,\n",
      "         2.4947e-05,  2.2610e-04, -6.1064e-04, -2.4200e-04, -2.6382e-04,\n",
      "        -4.3247e-04, -5.4284e-05,  1.4243e-04, -1.9244e-04, -4.6461e-06],\n",
      "       requires_grad=True)\n",
      "decoder_conv.weight Parameter containing:\n",
      "tensor([[ 0.1399,  0.0825,  0.0738,  ..., -0.1494, -0.0427, -0.0448],\n",
      "        [-0.0901,  0.1461,  0.0054,  ...,  0.0761, -0.1349,  0.1486],\n",
      "        [-0.0368,  0.1540,  0.0260,  ..., -0.0455,  0.1188,  0.0030],\n",
      "        ...,\n",
      "        [-0.0309, -0.0623, -0.0446,  ...,  0.1158, -0.1226, -0.0803],\n",
      "        [ 0.0979, -0.0193, -0.0872,  ...,  0.0018,  0.0032,  0.0728],\n",
      "        [ 0.0500,  0.0337,  0.1393,  ...,  0.1389,  0.0948, -0.0101]],\n",
      "       requires_grad=True)\n",
      "decoder_conv.bias Parameter containing:\n",
      "tensor([ 2.3047e-04, -1.4479e-03, -8.3585e-04,  2.2757e-03, -1.9283e-03,\n",
      "         2.1372e-04, -9.4503e-04, -2.2909e-03,  3.0265e-04, -9.6311e-04,\n",
      "         6.9124e-04, -2.8807e-03, -1.9640e-03,  1.3823e-03, -2.4969e-06,\n",
      "        -2.6725e-03, -3.4892e-05, -3.3001e-04,  8.0607e-04,  5.0256e-04,\n",
      "        -1.5784e-04, -1.7597e-03, -1.9945e-04, -2.1181e-03,  1.0346e-05,\n",
      "         1.1970e-03, -2.6388e-04, -2.0139e-03,  1.9790e-03,  6.1769e-04,\n",
      "         1.0287e-03, -1.6683e-03,  1.8889e-03,  9.1016e-04,  7.7376e-04,\n",
      "        -3.3245e-05,  1.6932e-03,  5.3016e-04, -1.8446e-03,  1.3477e-03,\n",
      "        -3.0279e-05, -4.5483e-04, -2.5970e-04,  6.1499e-04, -1.3417e-03,\n",
      "        -1.4977e-03,  1.1015e-03,  1.7652e-03, -1.5123e-03, -9.1902e-04,\n",
      "         7.7084e-04,  1.8065e-03, -2.6776e-03, -1.2928e-03, -9.7769e-04,\n",
      "        -1.2409e-03, -1.3574e-03, -2.4382e-04,  1.5094e-03,  1.6154e-03,\n",
      "        -4.6716e-04,  2.1539e-03,  3.2616e-03, -5.2878e-04, -2.0196e-03,\n",
      "        -6.1345e-04,  3.9823e-04, -3.7231e-06, -6.4884e-04,  1.8493e-03,\n",
      "         1.6971e-03,  1.2456e-03, -9.3481e-04, -5.3844e-04,  2.7376e-04,\n",
      "         7.2191e-04, -1.4966e-04,  2.4529e-04, -4.2020e-05, -1.3219e-03,\n",
      "        -1.3623e-03,  2.9607e-03, -1.0543e-03,  6.3167e-04,  1.3235e-03,\n",
      "         1.5178e-03, -2.3483e-04,  1.2630e-03,  8.7324e-04,  5.5138e-05,\n",
      "        -1.8879e-03,  9.2941e-04,  2.8397e-04,  4.9550e-04, -1.4277e-03,\n",
      "         2.5205e-03,  2.6358e-03, -3.5700e-04,  1.1307e-03, -3.6336e-04],\n",
      "       requires_grad=True)\n",
      "fc1.weight Parameter containing:\n",
      "tensor([[-0.0171, -0.0093,  0.0297,  ..., -0.0144, -0.0212,  0.0304],\n",
      "        [-0.0060, -0.0449, -0.0187,  ...,  0.0042, -0.0152,  0.0376],\n",
      "        [-0.0240,  0.0384, -0.0030,  ...,  0.0216,  0.0044,  0.0220],\n",
      "        ...,\n",
      "        [ 0.0173,  0.0080,  0.0379,  ...,  0.0545,  0.0117,  0.0146],\n",
      "        [-0.0426, -0.0303,  0.0229,  ...,  0.0081,  0.0207,  0.0069],\n",
      "        [ 0.0346, -0.0507, -0.0009,  ...,  0.0557,  0.0017, -0.0108]],\n",
      "       requires_grad=True)\n",
      "fc1.bias Parameter containing:\n",
      "tensor([-0.0049,  0.0614, -0.0465, -0.0137,  0.0370,  0.0522, -0.0193, -0.0633,\n",
      "        -0.0251, -0.0363,  0.0374, -0.0323, -0.0505,  0.0344, -0.0476, -0.0232,\n",
      "        -0.0363,  0.0370,  0.0165,  0.0425, -0.0481, -0.0644,  0.0017,  0.0349,\n",
      "         0.0190,  0.0364, -0.0258, -0.0033,  0.0242,  0.0337,  0.0099, -0.0573,\n",
      "         0.0263, -0.0254,  0.0300,  0.0313,  0.0212,  0.0033,  0.0474,  0.0377,\n",
      "         0.0530,  0.0122, -0.0613, -0.0376, -0.0231,  0.0494, -0.0148, -0.0281,\n",
      "         0.0272,  0.0195,  0.0538, -0.0565, -0.0306, -0.0511, -0.0345, -0.0479,\n",
      "        -0.0279, -0.0318, -0.0543, -0.0405,  0.0621,  0.0513, -0.0342,  0.0303,\n",
      "         0.0305, -0.0169, -0.0304,  0.0135, -0.0528, -0.0306, -0.0134,  0.0287,\n",
      "         0.0288,  0.0537, -0.0304, -0.0516, -0.0506,  0.0565, -0.0506, -0.0410,\n",
      "         0.0047, -0.0120,  0.0216, -0.0075,  0.0487, -0.0245,  0.0287, -0.0599,\n",
      "        -0.0040, -0.0365, -0.0332,  0.0137, -0.0379,  0.0179, -0.0338, -0.0090,\n",
      "        -0.0321,  0.0503, -0.0425,  0.0364], requires_grad=True)\n",
      "fc2.weight Parameter containing:\n",
      "tensor([[ 4.0165e-04, -6.1052e-03,  4.2402e-02,  2.3287e-02, -4.6440e-02,\n",
      "         -4.1715e-04, -5.4728e-02,  4.0510e-02,  2.9692e-02,  1.5955e-02,\n",
      "          1.5423e-02,  5.2715e-02, -5.0861e-04,  5.2872e-03, -2.3893e-03,\n",
      "         -1.1221e-02,  1.3849e-02, -5.1507e-02,  2.8779e-02, -5.3165e-02,\n",
      "         -7.1265e-02,  4.7149e-02, -8.4733e-02, -2.2187e-02, -8.0531e-03,\n",
      "         -3.1309e-02, -5.4144e-02, -9.9727e-04,  1.9731e-02,  7.6643e-03,\n",
      "         -3.6546e-02,  5.1125e-03,  6.3821e-02, -4.7874e-03,  4.4389e-02,\n",
      "         -5.4896e-02, -1.8111e-02, -4.1263e-02, -2.1561e-02,  3.5135e-03,\n",
      "          5.0253e-02, -2.7644e-02,  3.9838e-03,  3.0896e-03, -6.0942e-03,\n",
      "          1.7381e-02,  1.5950e-02, -2.4565e-02,  1.9948e-02, -7.2794e-03,\n",
      "         -1.2763e-02, -3.9615e-02, -4.3303e-03,  4.8181e-02, -1.9855e-02,\n",
      "          2.8429e-02,  3.1892e-02, -1.0138e-02, -1.3263e-02, -3.0392e-02,\n",
      "         -2.3568e-03,  3.5567e-03, -2.7308e-02, -1.9420e-02,  3.7167e-02,\n",
      "         -2.3872e-02,  3.3569e-02,  4.1703e-02,  3.1599e-03, -1.7836e-02,\n",
      "         -5.6981e-02, -5.8291e-03, -1.3234e-02, -8.2306e-04,  6.2264e-03,\n",
      "          3.2319e-02, -4.0208e-02, -8.9946e-03,  4.1720e-02,  7.9715e-02,\n",
      "         -6.1277e-02, -1.2946e-02,  3.0986e-02,  3.4851e-02, -4.1641e-03,\n",
      "          1.3517e-02,  2.7835e-02,  1.0015e-02, -2.6378e-02, -8.4890e-03,\n",
      "          2.2784e-02,  1.0352e-02,  4.3855e-02, -2.4039e-02,  7.7836e-02,\n",
      "          3.0685e-02, -1.9312e-02,  2.4406e-02,  4.1409e-02, -8.6883e-02],\n",
      "        [-2.7262e-02, -2.3390e-03, -2.7071e-02, -1.4821e-02,  6.7211e-03,\n",
      "         -3.0026e-02,  3.1848e-02, -2.1003e-02,  9.3363e-03, -4.4914e-03,\n",
      "          7.9451e-03,  1.5986e-02, -3.1917e-02, -2.3031e-02, -6.5810e-03,\n",
      "          4.0906e-02, -2.9478e-02, -2.0341e-02,  1.6171e-02,  3.1902e-02,\n",
      "          2.3364e-02,  1.6211e-02,  4.5338e-03,  1.3881e-02, -1.0975e-02,\n",
      "         -3.2503e-03,  4.9882e-02,  3.0645e-02, -1.9768e-03,  6.6263e-03,\n",
      "          1.9707e-02, -2.1494e-02, -9.2590e-03, -5.8331e-02, -3.1546e-02,\n",
      "          2.3201e-02,  1.9358e-02,  2.0547e-02,  5.0775e-02, -1.1704e-02,\n",
      "         -2.0957e-02,  1.9197e-02, -3.4036e-04, -9.8607e-03,  1.3906e-03,\n",
      "         -1.2224e-02,  2.8933e-04, -1.8010e-02, -1.6719e-02,  2.7723e-02,\n",
      "          3.7453e-02, -1.5442e-02,  5.2748e-02, -3.4753e-02,  1.9328e-02,\n",
      "         -1.6801e-02,  2.0475e-02, -3.5122e-02, -4.6535e-02, -3.1680e-02,\n",
      "          9.8435e-03, -5.1455e-02,  2.1844e-02,  1.7394e-02, -4.2461e-02,\n",
      "          4.5361e-02, -3.1417e-02, -2.3972e-02,  1.4335e-02, -1.0149e-02,\n",
      "          2.6315e-02, -5.8543e-03,  9.6085e-03,  5.9511e-03,  1.1022e-02,\n",
      "          1.1218e-02,  6.8527e-03,  4.7627e-02, -2.1373e-02,  3.0590e-03,\n",
      "          2.5051e-02, -1.5318e-02, -1.9404e-03, -1.1250e-02, -3.1151e-02,\n",
      "         -2.8161e-03, -7.6917e-03, -5.8873e-02,  1.1002e-02, -2.3011e-02,\n",
      "          1.7912e-02,  1.6668e-02, -2.2979e-02,  1.1811e-02, -3.0231e-02,\n",
      "         -3.2620e-02, -3.9845e-02, -1.0087e-02,  2.8395e-03,  9.4791e-03],\n",
      "        [-3.9249e-02,  3.4376e-03, -2.6702e-03, -5.1787e-02,  3.6518e-02,\n",
      "         -6.1965e-03,  8.9736e-04, -1.3110e-03,  4.6363e-02, -2.5264e-02,\n",
      "          4.6886e-02,  1.1816e-02,  5.5864e-02,  5.7612e-03, -9.2369e-03,\n",
      "          5.7261e-02,  2.2790e-02, -2.0829e-02,  1.2965e-02,  3.0351e-02,\n",
      "         -1.1744e-02,  1.1150e-02, -1.1428e-02,  2.1994e-02, -6.3174e-02,\n",
      "          3.8117e-02,  1.8139e-03,  2.2314e-02, -7.4148e-03, -1.3044e-02,\n",
      "          1.3588e-02,  3.6182e-02, -9.9844e-03,  2.6892e-03, -1.8525e-02,\n",
      "         -4.3958e-02, -5.3182e-03, -1.7884e-02,  2.6667e-02, -8.6087e-03,\n",
      "         -1.3440e-02,  9.0288e-03,  3.3744e-02, -3.0662e-02, -2.4429e-02,\n",
      "          4.8123e-02,  2.3512e-02, -1.9993e-02,  1.1369e-02, -1.9113e-02,\n",
      "          4.1600e-03,  3.9591e-03, -3.4909e-02, -7.4671e-02,  9.7717e-03,\n",
      "         -3.0517e-02, -6.8432e-03, -1.0861e-03, -5.6447e-02, -2.7978e-02,\n",
      "          4.1896e-02, -5.5173e-02,  1.1673e-02,  1.5013e-03, -4.0392e-04,\n",
      "          2.1980e-02,  2.8941e-02,  2.9351e-02,  6.3040e-02, -8.1933e-03,\n",
      "         -7.8298e-03, -2.7468e-02, -3.3173e-02,  6.7143e-03,  1.6524e-03,\n",
      "          4.1365e-02, -2.8645e-02, -5.1810e-02, -2.1590e-02,  1.7060e-02,\n",
      "         -2.5413e-02,  3.6630e-03,  3.7498e-02,  2.5238e-02, -3.5184e-02,\n",
      "         -3.1111e-03, -2.7926e-02, -4.2462e-02,  4.6958e-02,  2.2488e-02,\n",
      "          5.2918e-02,  1.8148e-02,  1.9324e-02,  4.6379e-02,  1.1091e-03,\n",
      "         -3.7180e-02,  3.9116e-02,  1.1488e-02, -1.0991e-03, -9.6203e-03],\n",
      "        [ 5.0302e-03,  2.1972e-02,  6.1967e-03, -4.9248e-02,  2.4437e-02,\n",
      "         -1.1217e-02,  4.4470e-02,  2.6183e-02, -2.8398e-02,  3.4566e-02,\n",
      "         -4.4744e-02,  5.3301e-02,  6.2688e-03, -2.3212e-02, -8.3328e-03,\n",
      "          3.6582e-02, -7.9922e-03,  3.8660e-02, -3.8055e-02, -5.1000e-03,\n",
      "          5.0528e-02,  2.9467e-02,  4.4488e-02,  5.8345e-02,  3.8828e-02,\n",
      "         -3.5508e-02,  2.5119e-02,  3.6858e-02, -1.6885e-02,  2.1931e-04,\n",
      "         -1.0603e-02,  1.3652e-02, -5.7102e-02, -1.8030e-02, -2.7569e-02,\n",
      "          3.2271e-02, -2.2020e-02,  2.4694e-03,  3.2812e-02, -1.4274e-02,\n",
      "         -2.8513e-03,  2.3189e-02, -1.5892e-02, -7.0670e-03,  4.2215e-02,\n",
      "          1.2879e-02, -4.6655e-02, -2.6307e-02,  3.5127e-02,  3.5581e-02,\n",
      "         -1.0921e-02, -3.7290e-02,  7.7028e-02,  5.0584e-02,  2.5986e-02,\n",
      "          3.5981e-02,  3.1081e-02,  9.6472e-03, -1.8503e-02, -1.8720e-02,\n",
      "         -5.6763e-03, -2.8162e-02, -6.9257e-02,  2.4198e-02,  4.2226e-02,\n",
      "          4.4285e-03, -6.4000e-03, -2.0009e-02, -1.2053e-02, -3.1869e-02,\n",
      "         -3.2685e-02,  2.6844e-03,  4.6270e-02, -7.5423e-03,  8.0370e-03,\n",
      "         -3.9063e-02,  2.6598e-02,  3.3181e-02, -4.0379e-05,  4.0702e-03,\n",
      "          7.5561e-02, -5.1368e-02, -8.1215e-03, -2.3671e-02, -1.3166e-02,\n",
      "         -5.4924e-02,  5.2810e-03, -2.6554e-03, -2.9943e-02, -9.3440e-03,\n",
      "          6.9887e-03, -2.8877e-02, -4.1932e-02, -3.3757e-02,  3.2132e-03,\n",
      "         -4.4069e-02, -7.6082e-02,  6.3717e-03, -3.4985e-02,  2.3712e-02]],\n",
      "       requires_grad=True)\n",
      "fc2.bias Parameter containing:\n",
      "tensor([ 0.0027, -0.0061,  0.0123,  0.0270], requires_grad=True)\n",
      "link_embedding.weight Parameter containing:\n",
      "tensor([[-0.3981,  1.4093,  0.0222,  ...,  0.3687,  0.0691, -0.3059],\n",
      "        [-0.1726, -0.1589,  0.1395,  ...,  0.8463, -1.1319,  0.5484],\n",
      "        [ 0.0951,  0.7480, -0.4629,  ...,  1.5764,  0.6877,  0.5341],\n",
      "        ...,\n",
      "        [ 1.5721,  0.4272,  1.3059,  ...,  0.8342,  0.1722,  0.3913],\n",
      "        [ 0.4851, -0.1281,  2.1658,  ...,  1.3154,  1.2937,  1.5918],\n",
      "        [-0.0411, -0.6231,  1.5789,  ..., -0.1504, -0.7385, -0.5597]],\n",
      "       requires_grad=True)\n"
     ]
    }
   ],
   "source": [
    "for name, pa in model.named_parameters():\n",
    "    print(name, pa)"
   ]
  },
  {
   "cell_type": "code",
   "execution_count": null,
   "id": "5a8f56fc-9216-4793-ac55-a053b17141dd",
   "metadata": {},
   "outputs": [],
   "source": []
  }
 ],
 "metadata": {
  "kernelspec": {
   "display_name": "Python 3 (ipykernel)",
   "language": "python",
   "name": "python3"
  },
  "language_info": {
   "codemirror_mode": {
    "name": "ipython",
    "version": 3
   },
   "file_extension": ".py",
   "mimetype": "text/x-python",
   "name": "python",
   "nbconvert_exporter": "python",
   "pygments_lexer": "ipython3",
   "version": "3.8.5"
  }
 },
 "nbformat": 4,
 "nbformat_minor": 5
}
