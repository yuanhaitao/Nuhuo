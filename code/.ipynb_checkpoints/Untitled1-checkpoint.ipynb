{
 "cells": [
  {
   "cell_type": "code",
   "execution_count": 1,
   "id": "d56dbf3c-ff96-4a18-9f18-9cb29b871aaf",
   "metadata": {},
   "outputs": [],
   "source": [
    "import time"
   ]
  },
  {
   "cell_type": "code",
   "execution_count": 2,
   "id": "01260f72-d097-4772-addf-27fee43c5166",
   "metadata": {},
   "outputs": [],
   "source": [
    "import numpy as np"
   ]
  },
  {
   "cell_type": "code",
   "execution_count": 12,
   "id": "0a0bb55c-6b30-4bbe-8f65-26b8a885d7f2",
   "metadata": {},
   "outputs": [],
   "source": [
    "t_s = np.random.random(100000000)"
   ]
  },
  {
   "cell_type": "code",
   "execution_count": 5,
   "id": "35f43f21-525b-467e-ae87-9c7e446c23fe",
   "metadata": {},
   "outputs": [
    {
     "data": {
      "text/plain": [
       "array([0.34140457, 0.53795544, 0.18368743, ..., 0.4706508 , 0.64057356,\n",
       "       0.2715334 ])"
      ]
     },
     "execution_count": 5,
     "metadata": {},
     "output_type": "execute_result"
    }
   ],
   "source": []
  },
  {
   "cell_type": "code",
   "execution_count": 13,
   "id": "24e40285-a769-4fea-8642-f2903c166dc4",
   "metadata": {},
   "outputs": [
    {
     "name": "stdout",
     "output_type": "stream",
     "text": [
      "[0.0, 1.0, 0.5, 0.5, 100000000]\n",
      "used time is:1.4766216278076172 s\n"
     ]
    }
   ],
   "source": [
    "s_t = time.time()\n",
    "print([\n",
    "                        round(np.min(t_s),2),\n",
    "                        round(np.max(t_s),2),\n",
    "                        round(np.median(t_s),2),\n",
    "                        round(np.mean(t_s),2),\n",
    "                        len(t_s)\n",
    "                    ])\n",
    "e_t = time.time()\n",
    "print(\"used time is:{} s\".format(e_t-s_t))"
   ]
  },
  {
   "cell_type": "code",
   "execution_count": 16,
   "id": "89727f95-baf6-4df3-b0a4-01cdddbff0ef",
   "metadata": {},
   "outputs": [
    {
     "name": "stdout",
     "output_type": "stream",
     "text": [
      "[0.0, 1.0, 0.5, 0.5, 100000000]\n",
      "used time is:11.336267709732056 s\n"
     ]
    }
   ],
   "source": [
    "s_t = time.time()\n",
    "# data = np.percentile(t_s, [0, 50, 100])\n",
    "print([\n",
    "                        round(np.min(t_s),2),\n",
    "                        round(np.max(t_s),2),\n",
    "                        round(np.median(t_s),2),\n",
    "                        round(np.mean(t_s),2),\n",
    "                        len(t_s)\n",
    "                    ])\n",
    "e_t = time.time()\n",
    "print(\"used time is:{} s\".format(e_t-s_t))"
   ]
  },
  {
   "cell_type": "code",
   "execution_count": null,
   "id": "6116792d-710d-4608-af32-81f805fbb263",
   "metadata": {},
   "outputs": [],
   "source": []
  }
 ],
 "metadata": {
  "kernelspec": {
   "display_name": "Python 3 (ipykernel)",
   "language": "python",
   "name": "python3"
  },
  "language_info": {
   "codemirror_mode": {
    "name": "ipython",
    "version": 3
   },
   "file_extension": ".py",
   "mimetype": "text/x-python",
   "name": "python",
   "nbconvert_exporter": "python",
   "pygments_lexer": "ipython3",
   "version": "3.8.5"
  }
 },
 "nbformat": 4,
 "nbformat_minor": 5
}
